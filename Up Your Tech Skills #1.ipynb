{
 "cells": [
  {
   "cell_type": "markdown",
   "metadata": {},
   "source": [
    "###  Bulk Package Case Study - The Power of Pandas \n",
    "\n",
    "#### Raw Data Setup:\n",
    "\n",
    "- Access the \"fundamentals_muni.out\" package stored in \"./Files/\"\n",
    "    - Read in the file with [read table](https://pandas.pydata.org/pandas-docs/stable/reference/api/pandas.read_table.html)\n",
    "        - Do not specify a separator and specify the name  of the one column to \"FirstColumn\" \n",
    "    - Split the data in the \"FirstColumn\" by the pipe \"|\" [Series.str.split](https://pandas.pydata.org/pandas-docs/stable/reference/api/pandas.Series.str.split.html)\n",
    "        - Override the expand default from **False** to **True**\n",
    "    - Structure of Expanded \".OUT\"\n",
    "        - Column 0 (Security/Field/Message)\n",
    "            - Fields will always be first in the dataframe \n",
    "        - Column 1 (Error Code) \n",
    "            - 0 = No Error \n",
    "            - 10 = Invalid Ticker \n",
    "            - 11 = Restricted Security \n",
    "        - Column 2 (Security Count)\n",
    "    - Access the Fields ONLY Data by filtering for rows where column 1 or column 2 are null. For all BBG .OUT files are structured: [Security or Field]|Error Code| Number of fields. The error code and number of fields will only be populated when there is a security.\n",
    "        - Convert the fields column 0 to a list [Convert to List](https://pandas.pydata.org/pandas-docs/stable/reference/api/pandas.Series.tolist.html)\n",
    "        - Access the index of String 'START-OF-FIELDS' + 1 [Access Index Position](https://www.programiz.com/python-programming/methods/list/index) \n",
    "        - Access the index of String 'END-OF-FIELDS'\n",
    "        - Take a slice of the fields list with the start/end variables established above [Slicing](https://www.pythoncentral.io/how-to-slice-listsarrays-and-tuples-in-python/)\n",
    "    - Access Security ONLY data where column 1 or column 2 is not null (inverse of fields)\n",
    "        - Set the index of the dataframe to the security [Set Index](https://pandas.pydata.org/pandas-docs/stable/reference/api/pandas.DataFrame.set_index.html)\n",
    "        - Remove the Error Code and Security count columns [iloc](https://www.shanelynn.ie/select-pandas-dataframe-rows-and-columns-using-iloc-loc-and-ix/)\n",
    "        - Reset the column index [reset column index](https://stackoverflow.com/questions/42284617/reset-column-index-pandas)\n",
    "        - Trim the column by the len of the fields list [iloc](https://www.shanelynn.ie/select-pandas-dataframe-rows-and-columns-using-iloc-loc-and-ix/), [len](https://www.programiz.com/python-programming/methods/built-in/len)\n",
    "        - Rename the columns to the fields list [rename columns](https://stackoverflow.com/questions/11346283/renaming-columns-in-pandas)\n",
    "\n",
    "#### Exploratory Data Analysis:   \n",
    "\n",
    "- Descriptive Pandas Functions\n",
    "    - [.describe()](https://pandas.pydata.org/pandas-docs/stable/reference/api/pandas.DataFrame.describe.html)\n",
    "    - [.info()](https://pandas.pydata.org/pandas-docs/version/0.23/generated/pandas.DataFrame.info.html)\n",
    "    - [.dtypes](https://www.geeksforgeeks.org/python-pandas-dataframe-dtypes/)\n",
    "    - [.isnull().any()](https://chartio.com/resources/tutorials/how-to-check-if-any-value-is-nan-in-a-pandas-dataframe/)\n",
    "    \n",
    "\n",
    "#### Data Manipulation\n",
    "\n",
    "- [.groupby()](https://pandas.pydata.org/pandas-docs/stable/reference/api/pandas.DataFrame.groupby.html)\n",
    "- [.sort_values](https://pandas.pydata.org/pandas-docs/stable/reference/api/pandas.DataFrame.sort_values.html)\n",
    "- [Subsetting](https://pandas.pydata.org/pandas-docs/stable/reference/api/pandas.DataFrame.loc.html)\n",
    "- [DateTime Casting](https://www.datacamp.com/community/tutorials/converting-strings-datetime-objects)\n",
    "- [pd.pivot_table()](https://pandas.pydata.org/pandas-docs/stable/reference/api/pandas.pivot_table.html)\n",
    "- BQL\n",
    "- [merge()](https://pandas.pydata.org/pandas-docs/stable/reference/api/pandas.DataFrame.merge.html) \n",
    "\n",
    "\n",
    "\n",
    "#### Visualization\n"
   ]
  },
  {
   "cell_type": "markdown",
   "metadata": {},
   "source": [
    "\n",
    "### Raw Data Setup:"
   ]
  },
  {
   "cell_type": "markdown",
   "metadata": {},
   "source": [
    "#### Import Relevant Libraries\n"
   ]
  },
  {
   "cell_type": "code",
   "execution_count": 2,
   "metadata": {
    "collapsed": true
   },
   "outputs": [],
   "source": [
    "import pandas as pd\n",
    "import numpy as np\n",
    "#import bql"
   ]
  },
  {
   "cell_type": "markdown",
   "metadata": {},
   "source": [
    "#### Read-in & Split DataFrame:\n"
   ]
  },
  {
   "cell_type": "code",
   "execution_count": 1,
   "metadata": {
    "collapsed": false
   },
   "outputs": [],
   "source": [
    "# read in the file with read_csv(). OVerride the names default to \"FirstColumn\" and save to variable raw_data\n",
    "#file can be found \"./Files/fundamentals_muni.out\" hint: read_csv\n",
    "#overwrite the header, sep, and name defaults https://pandas.pydata.org/pandas-docs/stable/reference/api/pandas.read_csv.html\n",
    "\n",
    "\n",
    "# ms = pd.read_csv('./Files/fundamentals_muni.out', sep='\\t', header=None, names=['FirstColumn'], skiprows=34, skipfooter=4, engine='python')\n",
    "# ms = pd.read_csv('./Files/fundamentals_muni.out', sep='\\t', header=None, names=['FirstColumn'])\n",
    "\n",
    "\n",
    "#split the \"FirstColumn\" with the series split function, save to new dataframe object called \"muni_issuers\"\n",
    "#first try without the expand, then try with the expand = True & check the types type()\n",
    "#series 1-D object, dataframe 2-D shape\n",
    "# muni_issuers = ms['FirstColumn'].str.split('|', expand=True)\n",
    "\n",
    "\n",
    "# A Little EDA print .head(), .tail() and .info() on the expanded dataframe\n"
   ]
  },
  {
   "cell_type": "code",
   "execution_count": null,
   "metadata": {
    "collapsed": false
   },
   "outputs": [],
   "source": [
    "# muni_issuers.info()\n",
    "# muni_issuers.shape\n",
    "# muni_issuers.describe\n",
    "muni_issuers.head()"
   ]
  },
  {
   "cell_type": "markdown",
   "metadata": {},
   "source": [
    "**eda answer**\n",
    "\n",
    "```python\n",
    "muni_issuers.shape\n",
    "muni_issuers.head()\n",
    "muni_issuers.tail()\n",
    "muni_issuers.info()\n",
    "```"
   ]
  },
  {
   "cell_type": "markdown",
   "metadata": {},
   "source": [
    "#### Access Fields, Convert to List & Subset:\n"
   ]
  },
  {
   "cell_type": "code",
   "execution_count": 4,
   "metadata": {
    "collapsed": false
   },
   "outputs": [
    {
     "ename": "NameError",
     "evalue": "name 'muni_issuers' is not defined",
     "output_type": "error",
     "traceback": [
      "\u001b[1;31m---------------------------------------------------------------------------\u001b[0m",
      "\u001b[1;31mNameError\u001b[0m                                 Traceback (most recent call last)",
      "\u001b[1;32m<ipython-input-4-931e60b12400>\u001b[0m in \u001b[0;36m<module>\u001b[1;34m()\u001b[0m\n\u001b[0;32m      3\u001b[0m \u001b[1;31m#save this to start_end\u001b[0m\u001b[1;33m\u001b[0m\u001b[1;33m\u001b[0m\u001b[0m\n\u001b[0;32m      4\u001b[0m \u001b[1;33m\u001b[0m\u001b[0m\n\u001b[1;32m----> 5\u001b[1;33m \u001b[0mstart_end\u001b[0m \u001b[1;33m=\u001b[0m \u001b[0mmuni_issuers\u001b[0m\u001b[1;33m.\u001b[0m\u001b[0mindex\u001b[0m\u001b[1;33m[\u001b[0m\u001b[1;33m(\u001b[0m\u001b[0mmuni_issuers\u001b[0m\u001b[1;33m[\u001b[0m\u001b[1;36m0\u001b[0m\u001b[1;33m]\u001b[0m \u001b[1;33m==\u001b[0m \u001b[1;34m'START-OF-FIELDS'\u001b[0m\u001b[1;33m)\u001b[0m \u001b[1;33m|\u001b[0m \u001b[1;33m(\u001b[0m\u001b[0mmuni_issuers\u001b[0m\u001b[1;33m[\u001b[0m\u001b[1;36m0\u001b[0m\u001b[1;33m]\u001b[0m \u001b[1;33m==\u001b[0m \u001b[1;34m'END-OF-FIELDS'\u001b[0m\u001b[1;33m)\u001b[0m\u001b[1;33m]\u001b[0m\u001b[1;33m\u001b[0m\u001b[0m\n\u001b[0m\u001b[0;32m      6\u001b[0m \u001b[0mstart_end\u001b[0m\u001b[1;33m\u001b[0m\u001b[0m\n\u001b[0;32m      7\u001b[0m \u001b[1;33m\u001b[0m\u001b[0m\n",
      "\u001b[1;31mNameError\u001b[0m: name 'muni_issuers' is not defined"
     ]
    }
   ],
   "source": [
    "#find the index of the start/end slice. Remember slices are inclusive exclusive. You will need to add 1 to the start index for only the fields \n",
    "#https://pandas.pydata.org/pandas-docs/stable/reference/api/pandas.Index.html\n",
    "#save this to start_end\n",
    "\n",
    "start_end = muni_issuers.index[(muni_issuers[0] == 'START-OF-FIELDS') | (muni_issuers[0] == 'END-OF-FIELDS')]\n",
    "start_end\n",
    "\n",
    "#Slice the dataframe\n",
    "#https://www.geeksforgeeks.org/python-accessing-all-elements-at-given-list-of-indexes/\n",
    "#https://pandas.pydata.org/pandas-docs/stable/reference/api/pandas.DataFrame.iloc.html\n",
    "\n",
    "column_names = muni_issuers.iloc[start_end[0]+1:start_end[1],:][0].tolist()\n",
    "\n",
    "#print the fields dataframe to notebook\n",
    "#https://pandas.pydata.org/pandas-docs/stable/reference/api/pandas.Series.tolist.html\n",
    "#save to list for columns to column names\n",
    "\n",
    "\n",
    "#do some EDA\n",
    "\n"
   ]
  },
  {
   "cell_type": "code",
   "execution_count": 5,
   "metadata": {
    "collapsed": false
   },
   "outputs": [
    {
     "ename": "NameError",
     "evalue": "name 'column_names' is not defined",
     "output_type": "error",
     "traceback": [
      "\u001b[1;31m---------------------------------------------------------------------------\u001b[0m",
      "\u001b[1;31mNameError\u001b[0m                                 Traceback (most recent call last)",
      "\u001b[1;32m<ipython-input-5-ba3d7d77bd8c>\u001b[0m in \u001b[0;36m<module>\u001b[1;34m()\u001b[0m\n\u001b[1;32m----> 1\u001b[1;33m \u001b[0mcolumn_names\u001b[0m\u001b[1;33m\u001b[0m\u001b[0m\n\u001b[0m",
      "\u001b[1;31mNameError\u001b[0m: name 'column_names' is not defined"
     ]
    }
   ],
   "source": [
    "column_names"
   ]
  },
  {
   "cell_type": "markdown",
   "metadata": {},
   "source": [
    "**eda answer**\n",
    "\n",
    "```python\n",
    "len(column_names)\n",
    "print(column_names)\n"
   ]
  },
  {
   "cell_type": "markdown",
   "metadata": {},
   "source": [
    "#### Access Securities, Restructure, & Rename Columns:\n"
   ]
  },
  {
   "cell_type": "code",
   "execution_count": 193,
   "metadata": {
    "collapsed": true
   },
   "outputs": [],
   "source": [
    "# Filter expanded dataframe where column 1 or 2 are NOT null with .loc function\n",
    "#https://pandas.pydata.org/pandas-docs/stable/reference/api/pandas.DataFrame.loc.html\n",
    "\n",
    "# security_returns = muni_issuers.loc[muni_issuers[1].notnull()]\\\n",
    "#                     .drop([1,2], axis=1)\\\n",
    "#                     .set_index(0)\n",
    "\n",
    "\n",
    "# remove the error return (Column 1) & field count (Column 2) columns with .drop\n",
    "#https://pandas.pydata.org/pandas-docs/stable/reference/api/pandas.DataFrame.drop.html\n",
    "\n",
    "\n",
    "# security_returns.drop([1,2], axis=1, inplace=True)\n",
    "\n",
    "\n",
    "\n",
    "# Set index to the Security Column\n",
    "#https://pandas.pydata.org/pandas-docs/stable/reference/api/pandas.DataFrame.set_index.html\n",
    "\n",
    "# security_returns.set_index(0)\n",
    "\n",
    "\n",
    "#Use iloc to reshape the columns to fit the length of the list \n",
    "#https://www.programiz.com/python-programming/methods/built-in/len\n",
    "#https://pandas.pydata.org/pandas-docs/stable/reference/api/pandas.DataFrame.iloc.html\n",
    "\n",
    "# security_returns.iloc[:,:len(column_names)]\n",
    "\n",
    "# set the columns equal to the fields list \n",
    "\n",
    "\n",
    "#chaining (readability)\n",
    "#https://stackoverflow.com/questions/33944522/is-it-possible-to-split-a-sequence-of-pandas-commands-across-multiple-lines/33944618\n",
    "\n"
   ]
  },
  {
   "cell_type": "code",
   "execution_count": 194,
   "metadata": {
    "collapsed": false
   },
   "outputs": [
    {
     "data": {
      "text/html": [
       "<div>\n",
       "<style scoped>\n",
       "    .dataframe tbody tr th:only-of-type {\n",
       "        vertical-align: middle;\n",
       "    }\n",
       "\n",
       "    .dataframe tbody tr th {\n",
       "        vertical-align: top;\n",
       "    }\n",
       "\n",
       "    .dataframe thead th {\n",
       "        text-align: right;\n",
       "    }\n",
       "</style>\n",
       "<table border=\"1\" class=\"dataframe\">\n",
       "  <thead>\n",
       "    <tr style=\"text-align: right;\">\n",
       "      <th></th>\n",
       "      <th>0</th>\n",
       "      <th>1</th>\n",
       "      <th>2</th>\n",
       "      <th>3</th>\n",
       "      <th>4</th>\n",
       "      <th>5</th>\n",
       "      <th>6</th>\n",
       "      <th>7</th>\n",
       "      <th>8</th>\n",
       "      <th>9</th>\n",
       "      <th>...</th>\n",
       "      <th>19</th>\n",
       "      <th>20</th>\n",
       "      <th>21</th>\n",
       "      <th>22</th>\n",
       "      <th>23</th>\n",
       "      <th>24</th>\n",
       "      <th>25</th>\n",
       "      <th>26</th>\n",
       "      <th>27</th>\n",
       "      <th>28</th>\n",
       "    </tr>\n",
       "  </thead>\n",
       "  <tbody>\n",
       "    <tr>\n",
       "      <th>32</th>\n",
       "      <td>21381Z US Equity</td>\n",
       "      <td>0</td>\n",
       "      <td>25</td>\n",
       "      <td>1002150</td>\n",
       "      <td>BBG000BHHDV8</td>\n",
       "      <td>21381Z</td>\n",
       "      <td>21381Z US</td>\n",
       "      <td>DADE COUNTY FLORIDA</td>\n",
       "      <td>21381Z US</td>\n",
       "      <td>20180930</td>\n",
       "      <td>...</td>\n",
       "      <td>BBG001FR7C34</td>\n",
       "      <td>County of Miami-Dade FL</td>\n",
       "      <td>1002150</td>\n",
       "      <td>BBG001FR7C34</td>\n",
       "      <td>County of Miami-Dade FL</td>\n",
       "      <td>1002150</td>\n",
       "      <td>1</td>\n",
       "      <td>FL</td>\n",
       "      <td>Y</td>\n",
       "      <td></td>\n",
       "    </tr>\n",
       "    <tr>\n",
       "      <th>33</th>\n",
       "      <td>116126MF US Equity</td>\n",
       "      <td>0</td>\n",
       "      <td>25</td>\n",
       "      <td>32553265</td>\n",
       "      <td>BBG003C4QFY2</td>\n",
       "      <td>116126MF</td>\n",
       "      <td>116126MF US</td>\n",
       "      <td>YAKIMA COUNTY SCHOOL DISTRIC</td>\n",
       "      <td>58192MF US</td>\n",
       "      <td>20180831</td>\n",
       "      <td>...</td>\n",
       "      <td>BBG003BZXHZ1</td>\n",
       "      <td>Yakima County School District No 201 Sunnyside...</td>\n",
       "      <td>1039315</td>\n",
       "      <td>BBG001FSTLN6</td>\n",
       "      <td>Yakima County School District</td>\n",
       "      <td>1039315</td>\n",
       "      <td>3</td>\n",
       "      <td>WA</td>\n",
       "      <td>Y</td>\n",
       "      <td></td>\n",
       "    </tr>\n",
       "    <tr>\n",
       "      <th>34</th>\n",
       "      <td>144893MF US Equity</td>\n",
       "      <td>0</td>\n",
       "      <td>25</td>\n",
       "      <td>42956653</td>\n",
       "      <td>BBG007GNHKX7</td>\n",
       "      <td>144893MF</td>\n",
       "      <td>144893MF US</td>\n",
       "      <td>ORADELL SCHOOL DISTRICT - GO</td>\n",
       "      <td>39647MF US</td>\n",
       "      <td>20180630</td>\n",
       "      <td>...</td>\n",
       "      <td>BBG007FJ25R3</td>\n",
       "      <td>Oradell School District - Government Fund</td>\n",
       "      <td>1008998</td>\n",
       "      <td>BBG001FRHGY0</td>\n",
       "      <td>Oradell School District</td>\n",
       "      <td>1008998</td>\n",
       "      <td>4</td>\n",
       "      <td>NJ</td>\n",
       "      <td>Y</td>\n",
       "      <td></td>\n",
       "    </tr>\n",
       "    <tr>\n",
       "      <th>35</th>\n",
       "      <td>82353MF US Equity</td>\n",
       "      <td>0</td>\n",
       "      <td>25</td>\n",
       "      <td>1003392</td>\n",
       "      <td>BBG0018LM9X2</td>\n",
       "      <td>82353MF</td>\n",
       "      <td>82353MF US</td>\n",
       "      <td>CITY OF MOORE HAVEN FL</td>\n",
       "      <td>82353MF US</td>\n",
       "      <td>20160930</td>\n",
       "      <td>...</td>\n",
       "      <td>BBG001FR8WW7</td>\n",
       "      <td>City of Moore Haven FL</td>\n",
       "      <td>1003392</td>\n",
       "      <td>BBG001FR8WW7</td>\n",
       "      <td>City of Moore Haven FL</td>\n",
       "      <td>1003392</td>\n",
       "      <td>1</td>\n",
       "      <td>FL</td>\n",
       "      <td>Y</td>\n",
       "      <td></td>\n",
       "    </tr>\n",
       "    <tr>\n",
       "      <th>36</th>\n",
       "      <td>95895MF US Equity</td>\n",
       "      <td>0</td>\n",
       "      <td>25</td>\n",
       "      <td>29808261</td>\n",
       "      <td>BBG002W3N0Z9</td>\n",
       "      <td>95895MF</td>\n",
       "      <td>95895MF US</td>\n",
       "      <td>TOWN OF LEESBURG VA - TOTAL</td>\n",
       "      <td>8617MF US</td>\n",
       "      <td>20180630</td>\n",
       "      <td>...</td>\n",
       "      <td>BBG002VZGK10</td>\n",
       "      <td>Town of Leesburg VA - Total Government Fund</td>\n",
       "      <td>1017794</td>\n",
       "      <td>BBG001FRWYL8</td>\n",
       "      <td>Town of Leesburg VA</td>\n",
       "      <td>1017794</td>\n",
       "      <td>3</td>\n",
       "      <td>VA</td>\n",
       "      <td>Y</td>\n",
       "      <td></td>\n",
       "    </tr>\n",
       "  </tbody>\n",
       "</table>\n",
       "<p>5 rows × 29 columns</p>\n",
       "</div>"
      ],
      "text/plain": [
       "                    0  1   2         3             4         5            6   \\\n",
       "32    21381Z US Equity  0  25   1002150  BBG000BHHDV8    21381Z    21381Z US   \n",
       "33  116126MF US Equity  0  25  32553265  BBG003C4QFY2  116126MF  116126MF US   \n",
       "34  144893MF US Equity  0  25  42956653  BBG007GNHKX7  144893MF  144893MF US   \n",
       "35   82353MF US Equity  0  25   1003392  BBG0018LM9X2   82353MF   82353MF US   \n",
       "36   95895MF US Equity  0  25  29808261  BBG002W3N0Z9   95895MF   95895MF US   \n",
       "\n",
       "                              7           8         9   ...            19  \\\n",
       "32           DADE COUNTY FLORIDA   21381Z US  20180930  ...  BBG001FR7C34   \n",
       "33  YAKIMA COUNTY SCHOOL DISTRIC  58192MF US  20180831  ...  BBG003BZXHZ1   \n",
       "34  ORADELL SCHOOL DISTRICT - GO  39647MF US  20180630  ...  BBG007FJ25R3   \n",
       "35        CITY OF MOORE HAVEN FL  82353MF US  20160930  ...  BBG001FR8WW7   \n",
       "36   TOWN OF LEESBURG VA - TOTAL   8617MF US  20180630  ...  BBG002VZGK10   \n",
       "\n",
       "                                                   20       21            22  \\\n",
       "32                            County of Miami-Dade FL  1002150  BBG001FR7C34   \n",
       "33  Yakima County School District No 201 Sunnyside...  1039315  BBG001FSTLN6   \n",
       "34          Oradell School District - Government Fund  1008998  BBG001FRHGY0   \n",
       "35                             City of Moore Haven FL  1003392  BBG001FR8WW7   \n",
       "36        Town of Leesburg VA - Total Government Fund  1017794  BBG001FRWYL8   \n",
       "\n",
       "                               23       24 25  26 27 28  \n",
       "32        County of Miami-Dade FL  1002150  1  FL  Y     \n",
       "33  Yakima County School District  1039315  3  WA  Y     \n",
       "34        Oradell School District  1008998  4  NJ  Y     \n",
       "35         City of Moore Haven FL  1003392  1  FL  Y     \n",
       "36            Town of Leesburg VA  1017794  3  VA  Y     \n",
       "\n",
       "[5 rows x 29 columns]"
      ]
     },
     "execution_count": 194,
     "metadata": {},
     "output_type": "execute_result"
    }
   ],
   "source": [
    "security_returns = muni_issuers.loc[muni_issuers[1].notnull()]\n",
    "security_returns.head()"
   ]
  },
  {
   "cell_type": "code",
   "execution_count": 195,
   "metadata": {
    "collapsed": true
   },
   "outputs": [],
   "source": [
    "security_returns = muni_issuers.loc[muni_issuers[1].notnull()]\\\n",
    "                    .drop([1,2], axis=1)\\\n",
    "                    .set_index(0)\\\n",
    "                    .iloc[:,:len(column_names)]\n",
    "security_returns.columns = column_names"
   ]
  },
  {
   "cell_type": "markdown",
   "metadata": {},
   "source": [
    "### Exploratory Data Analysis:"
   ]
  },
  {
   "cell_type": "code",
   "execution_count": 196,
   "metadata": {
    "collapsed": true
   },
   "outputs": [],
   "source": [
    "#A little EDA: print head() tail() info() describe() shape() to better understand the dataset \n",
    "\n",
    "# get the dataframe's shape\n",
    "# security_returns.shape\n",
    "\n",
    "# print the dataframe's columns\n",
    "# security_returns.columns\n",
    "\n",
    "#print the first x  rows of the dataframe \n",
    "# security_returns.head()\n",
    "\n",
    "#print the last x rows of a dataframe \n",
    "# security_returns.tail()"
   ]
  },
  {
   "cell_type": "code",
   "execution_count": 197,
   "metadata": {
    "collapsed": true
   },
   "outputs": [],
   "source": [
    "# security_returns.head()\n",
    "# security_returns.describe()\n",
    "# security_returns.info()\n",
    "# security_returns.columns\n",
    "# security_returns.shape\n",
    "# security_returns.dtypes"
   ]
  },
  {
   "cell_type": "markdown",
   "metadata": {},
   "source": [
    "EDA Answer \n",
    "```python\n",
    "security_returns.shape\n",
    "security_returns.columns\n",
    "security_returns.head()\n",
    "security_returns.tail()\n",
    "\n",
    "```"
   ]
  },
  {
   "cell_type": "markdown",
   "metadata": {},
   "source": [
    "### Data Manipulation\n",
    "\n",
    "#### A) Group By\n",
    "- What is the most popular 'INDUSTRY_SECTOR' ?\n",
    "    - group by industry sector, industry group & count by unique instrument 'ID_BB_UNIQUE'\n",
    "- Name the top ten parent issuers \n",
    "    - group by 'ID_BB_GLOBAL_ULT_PARENT_CO_NAME'& count by unique instrument 'ID_BB_UNIQUE'\n",
    "    - use .head(10) to get the top 10\n",
    "- Get the state name with the most issuers\n",
    "    - group by 'STATE_CODE'& count by unique instrument 'ID_BB_UNIQUE'\n",
    "    - user .head() to get the top state "
   ]
  },
  {
   "cell_type": "code",
   "execution_count": 198,
   "metadata": {
    "collapsed": true
   },
   "outputs": [],
   "source": [
    "#do work here - try all three \n",
    "#https://www.geeksforgeeks.org/python-pandas-dataframe-groupby/\n",
    "\n",
    "\n"
   ]
  },
  {
   "cell_type": "code",
   "execution_count": 199,
   "metadata": {
    "collapsed": false
   },
   "outputs": [
    {
     "data": {
      "text/plain": [
       "Index(['ID_BB_COMPANY', 'ID_BB_GLOBAL', 'TICKER', 'TICKER_AND_EXCH_CODE',\n",
       "       'NAME', 'ULT_PARENT_TICKER_EXCHANGE', 'MOST_RECENT_PERIOD_END_DT',\n",
       "       'NEXT_FISCAL_YR_END_MONTH', 'EQY_FUND_CRNCY', 'COMPANY_AUDITOR',\n",
       "       'AUDITORS_OPINION', 'INDUSTRY_SECTOR', 'INDUSTRY_GROUP',\n",
       "       'INDUSTRY_SUBGROUP', 'EQY_FUND_IND', 'ID_BB_UNIQUE',\n",
       "       'ID_BB_GLOBAL_COMPANY', 'ID_BB_GLOBAL_COMPANY_NAME',\n",
       "       'ID_BB_ULTIMATE_PARENT_CO', 'ID_BB_GLOBAL_ULTIMATE_PARENT_CO',\n",
       "       'ID_BB_GLOBAL_ULT_PARENT_CO_NAME', 'ULTIMATE_BORROWER_BBID',\n",
       "       'ISSUER_FINANCIAL_STATEMENT_TYPE', 'STATE_CODE', 'FULL_FUND_AVAIL'],\n",
       "      dtype='object')"
      ]
     },
     "execution_count": 199,
     "metadata": {},
     "output_type": "execute_result"
    }
   ],
   "source": [
    "security_returns.columns"
   ]
  },
  {
   "cell_type": "code",
   "execution_count": 200,
   "metadata": {
    "collapsed": false
   },
   "outputs": [
    {
     "data": {
      "text/html": [
       "<div>\n",
       "<style scoped>\n",
       "    .dataframe tbody tr th:only-of-type {\n",
       "        vertical-align: middle;\n",
       "    }\n",
       "\n",
       "    .dataframe tbody tr th {\n",
       "        vertical-align: top;\n",
       "    }\n",
       "\n",
       "    .dataframe thead th {\n",
       "        text-align: right;\n",
       "    }\n",
       "</style>\n",
       "<table border=\"1\" class=\"dataframe\">\n",
       "  <thead>\n",
       "    <tr style=\"text-align: right;\">\n",
       "      <th></th>\n",
       "      <th>INDUSTRY_SECTOR</th>\n",
       "      <th>INDUSTRY_GROUP</th>\n",
       "      <th>INDUSTRY_SUBGROUP</th>\n",
       "      <th>ID_BB_UNIQUE</th>\n",
       "    </tr>\n",
       "  </thead>\n",
       "  <tbody>\n",
       "    <tr>\n",
       "      <th>97</th>\n",
       "      <td>Government</td>\n",
       "      <td>Municipal</td>\n",
       "      <td>Municipal-Education</td>\n",
       "      <td>48972</td>\n",
       "    </tr>\n",
       "    <tr>\n",
       "      <th>95</th>\n",
       "      <td>Government</td>\n",
       "      <td>Municipal</td>\n",
       "      <td>Municipal-City</td>\n",
       "      <td>40953</td>\n",
       "    </tr>\n",
       "    <tr>\n",
       "      <th>99</th>\n",
       "      <td>Government</td>\n",
       "      <td>Municipal</td>\n",
       "      <td>US Municipals</td>\n",
       "      <td>23945</td>\n",
       "    </tr>\n",
       "    <tr>\n",
       "      <th>96</th>\n",
       "      <td>Government</td>\n",
       "      <td>Municipal</td>\n",
       "      <td>Municipal-County</td>\n",
       "      <td>12137</td>\n",
       "    </tr>\n",
       "    <tr>\n",
       "      <th>130</th>\n",
       "      <td>N.A.</td>\n",
       "      <td>N.A.</td>\n",
       "      <td>N.A.</td>\n",
       "      <td>2851</td>\n",
       "    </tr>\n",
       "    <tr>\n",
       "      <th>45</th>\n",
       "      <td>Consumer, Non-cyclical</td>\n",
       "      <td>Commercial Services</td>\n",
       "      <td>Non-Profit Charity</td>\n",
       "      <td>2227</td>\n",
       "    </tr>\n",
       "    <tr>\n",
       "      <th>60</th>\n",
       "      <td>Consumer, Non-cyclical</td>\n",
       "      <td>Healthcare-Services</td>\n",
       "      <td>Medical-Hospitals</td>\n",
       "      <td>2097</td>\n",
       "    </tr>\n",
       "    <tr>\n",
       "      <th>50</th>\n",
       "      <td>Consumer, Non-cyclical</td>\n",
       "      <td>Commercial Services</td>\n",
       "      <td>Schools</td>\n",
       "      <td>1668</td>\n",
       "    </tr>\n",
       "    <tr>\n",
       "      <th>92</th>\n",
       "      <td>Financial</td>\n",
       "      <td>Real Estate</td>\n",
       "      <td>Housing Authority</td>\n",
       "      <td>1115</td>\n",
       "    </tr>\n",
       "    <tr>\n",
       "      <th>139</th>\n",
       "      <td>Utilities</td>\n",
       "      <td>Water</td>\n",
       "      <td>Water</td>\n",
       "      <td>676</td>\n",
       "    </tr>\n",
       "  </tbody>\n",
       "</table>\n",
       "</div>"
      ],
      "text/plain": [
       "            INDUSTRY_SECTOR       INDUSTRY_GROUP    INDUSTRY_SUBGROUP  \\\n",
       "97               Government            Municipal  Municipal-Education   \n",
       "95               Government            Municipal       Municipal-City   \n",
       "99               Government            Municipal        US Municipals   \n",
       "96               Government            Municipal     Municipal-County   \n",
       "130                    N.A.                 N.A.                 N.A.   \n",
       "45   Consumer, Non-cyclical  Commercial Services   Non-Profit Charity   \n",
       "60   Consumer, Non-cyclical  Healthcare-Services    Medical-Hospitals   \n",
       "50   Consumer, Non-cyclical  Commercial Services              Schools   \n",
       "92                Financial          Real Estate    Housing Authority   \n",
       "139               Utilities                Water                Water   \n",
       "\n",
       "     ID_BB_UNIQUE  \n",
       "97          48972  \n",
       "95          40953  \n",
       "99          23945  \n",
       "96          12137  \n",
       "130          2851  \n",
       "45           2227  \n",
       "60           2097  \n",
       "50           1668  \n",
       "92           1115  \n",
       "139           676  "
      ]
     },
     "execution_count": 200,
     "metadata": {},
     "output_type": "execute_result"
    }
   ],
   "source": [
    "security_returns.groupby(['INDUSTRY_SECTOR','INDUSTRY_GROUP','INDUSTRY_SUBGROUP'])['ID_BB_UNIQUE']\\\n",
    "                .nunique().reset_index().sort_values('ID_BB_UNIQUE', ascending=False).head(10)"
   ]
  },
  {
   "cell_type": "markdown",
   "metadata": {},
   "source": [
    "#### B) Subsetting \n",
    "- create 'nynj_health'\n",
    "    - .loc\n",
    "        - https://pandas.pydata.org/pandas-docs/stable/reference/api/pandas.DataFrame.loc.html\n",
    "        - Filter the security_returns data for 'INDUSTRY_GROUP' : 'Healthcare-Services' \n",
    "        - Filter for State codes New York or New Jersey Located in New York  OR New Jersey\n",
    "        - Filter for issuers audited by: 'ERNST & YOUNG LLP', \t'KPMG LLP','DELOITTE & TOUCHE LLP', 'PRICEWATERHOUSE COOPERS LLP'\n",
    "    - .iloc\n",
    "        - https://www.shanelynn.ie/select-pandas-dataframe-rows-and-columns-using-iloc-loc-and-ix/\n",
    "        - Filter for the first 10 rows and first 10 columns "
   ]
  },
  {
   "cell_type": "code",
   "execution_count": 1,
   "metadata": {
    "collapsed": false
   },
   "outputs": [
    {
     "ename": "NameError",
     "evalue": "name 'security_returns' is not defined",
     "output_type": "error",
     "traceback": [
      "\u001b[1;31m---------------------------------------------------------------------------\u001b[0m",
      "\u001b[1;31mNameError\u001b[0m                                 Traceback (most recent call last)",
      "\u001b[1;32m<ipython-input-1-f1d68e07f6cd>\u001b[0m in \u001b[0;36m<module>\u001b[1;34m()\u001b[0m\n\u001b[0;32m      1\u001b[0m \u001b[1;31m#do work here\u001b[0m\u001b[1;33m\u001b[0m\u001b[1;33m\u001b[0m\u001b[0m\n\u001b[0;32m      2\u001b[0m \u001b[1;33m\u001b[0m\u001b[0m\n\u001b[1;32m----> 3\u001b[1;33m \u001b[0msecurity_returns\u001b[0m\u001b[1;33m.\u001b[0m\u001b[0mloc\u001b[0m\u001b[1;33m[\u001b[0m\u001b[0msecurity_returns\u001b[0m\u001b[1;33m[\u001b[0m\u001b[1;34m'INDUSTRY_SUBGROUP'\u001b[0m\u001b[1;33m]\u001b[0m \u001b[1;33m==\u001b[0m \u001b[1;34m'Municipal-Education'\u001b[0m\u001b[1;33m]\u001b[0m                \u001b[1;33m.\u001b[0m\u001b[0mgroupby\u001b[0m\u001b[1;33m(\u001b[0m\u001b[1;33m[\u001b[0m\u001b[1;34m'STATE_CODE'\u001b[0m\u001b[1;33m]\u001b[0m\u001b[1;33m)\u001b[0m\u001b[1;33m[\u001b[0m\u001b[1;34m'ID_BB_UNIQUE'\u001b[0m\u001b[1;33m]\u001b[0m\u001b[1;33m.\u001b[0m\u001b[0mnunique\u001b[0m\u001b[1;33m(\u001b[0m\u001b[1;33m)\u001b[0m\u001b[1;33m.\u001b[0m\u001b[0mreset_index\u001b[0m\u001b[1;33m(\u001b[0m\u001b[1;33m)\u001b[0m                \u001b[1;33m.\u001b[0m\u001b[0msort_values\u001b[0m\u001b[1;33m(\u001b[0m\u001b[1;34m'ID_BB_UNIQUE'\u001b[0m\u001b[1;33m,\u001b[0m \u001b[0mascending\u001b[0m\u001b[1;33m=\u001b[0m\u001b[1;32mFalse\u001b[0m\u001b[1;33m)\u001b[0m\u001b[1;33m.\u001b[0m\u001b[0mhead\u001b[0m\u001b[1;33m(\u001b[0m\u001b[1;36m5\u001b[0m\u001b[1;33m)\u001b[0m\u001b[1;33m\u001b[0m\u001b[0m\n\u001b[0m",
      "\u001b[1;31mNameError\u001b[0m: name 'security_returns' is not defined"
     ]
    }
   ],
   "source": [
    "#do work here\n",
    "\n",
    "security_returns.loc[security_returns['INDUSTRY_SUBGROUP'] == 'Municipal-Education']\\\n",
    "                .groupby(['STATE_CODE'])['ID_BB_UNIQUE'].nunique().reset_index()\\\n",
    "                .sort_values('ID_BB_UNIQUE', ascending=False).head(5)"
   ]
  },
  {
   "cell_type": "code",
   "execution_count": 202,
   "metadata": {
    "collapsed": false
   },
   "outputs": [
    {
     "data": {
      "text/html": [
       "<div>\n",
       "<style scoped>\n",
       "    .dataframe tbody tr th:only-of-type {\n",
       "        vertical-align: middle;\n",
       "    }\n",
       "\n",
       "    .dataframe tbody tr th {\n",
       "        vertical-align: top;\n",
       "    }\n",
       "\n",
       "    .dataframe thead th {\n",
       "        text-align: right;\n",
       "    }\n",
       "</style>\n",
       "<table border=\"1\" class=\"dataframe\">\n",
       "  <thead>\n",
       "    <tr style=\"text-align: right;\">\n",
       "      <th></th>\n",
       "      <th>ID_BB_COMPANY</th>\n",
       "      <th>ID_BB_GLOBAL</th>\n",
       "      <th>TICKER</th>\n",
       "      <th>TICKER_AND_EXCH_CODE</th>\n",
       "      <th>NAME</th>\n",
       "      <th>ULT_PARENT_TICKER_EXCHANGE</th>\n",
       "      <th>MOST_RECENT_PERIOD_END_DT</th>\n",
       "      <th>NEXT_FISCAL_YR_END_MONTH</th>\n",
       "      <th>EQY_FUND_CRNCY</th>\n",
       "      <th>COMPANY_AUDITOR</th>\n",
       "      <th>...</th>\n",
       "      <th>ID_BB_UNIQUE</th>\n",
       "      <th>ID_BB_GLOBAL_COMPANY</th>\n",
       "      <th>ID_BB_GLOBAL_COMPANY_NAME</th>\n",
       "      <th>ID_BB_ULTIMATE_PARENT_CO</th>\n",
       "      <th>ID_BB_GLOBAL_ULTIMATE_PARENT_CO</th>\n",
       "      <th>ID_BB_GLOBAL_ULT_PARENT_CO_NAME</th>\n",
       "      <th>ULTIMATE_BORROWER_BBID</th>\n",
       "      <th>ISSUER_FINANCIAL_STATEMENT_TYPE</th>\n",
       "      <th>STATE_CODE</th>\n",
       "      <th>FULL_FUND_AVAIL</th>\n",
       "    </tr>\n",
       "    <tr>\n",
       "      <th>0</th>\n",
       "      <th></th>\n",
       "      <th></th>\n",
       "      <th></th>\n",
       "      <th></th>\n",
       "      <th></th>\n",
       "      <th></th>\n",
       "      <th></th>\n",
       "      <th></th>\n",
       "      <th></th>\n",
       "      <th></th>\n",
       "      <th></th>\n",
       "      <th></th>\n",
       "      <th></th>\n",
       "      <th></th>\n",
       "      <th></th>\n",
       "      <th></th>\n",
       "      <th></th>\n",
       "      <th></th>\n",
       "      <th></th>\n",
       "      <th></th>\n",
       "      <th></th>\n",
       "    </tr>\n",
       "  </thead>\n",
       "  <tbody>\n",
       "    <tr>\n",
       "      <th>31450MF US Equity</th>\n",
       "      <td>1072083</td>\n",
       "      <td>BBG000NWL633</td>\n",
       "      <td>31450MF</td>\n",
       "      <td>31450MF US</td>\n",
       "      <td>CENTRAL SQUARE CENTRAL SCHOO</td>\n",
       "      <td>31450MF US</td>\n",
       "      <td>20180630</td>\n",
       "      <td>06/2019</td>\n",
       "      <td>USD</td>\n",
       "      <td>RAYMOND F WAGER PC</td>\n",
       "      <td>...</td>\n",
       "      <td>EQ0000000009869913</td>\n",
       "      <td>BBG001FX7732</td>\n",
       "      <td>Central Square Central School District</td>\n",
       "      <td>1072083</td>\n",
       "      <td>BBG001FX7732</td>\n",
       "      <td>Central Square Central School</td>\n",
       "      <td>1072083</td>\n",
       "      <td>1</td>\n",
       "      <td>NY</td>\n",
       "      <td>Y</td>\n",
       "    </tr>\n",
       "    <tr>\n",
       "      <th>145254MF US Equity</th>\n",
       "      <td>42958831</td>\n",
       "      <td>BBG007GNJVH9</td>\n",
       "      <td>145254MF</td>\n",
       "      <td>145254MF US</td>\n",
       "      <td>CLYMER CENTRAL SCHOOL DISTRI</td>\n",
       "      <td>33796MF US</td>\n",
       "      <td>20180630</td>\n",
       "      <td>06/2019</td>\n",
       "      <td>USD</td>\n",
       "      <td>RA MERCER &amp; CO PC</td>\n",
       "      <td>...</td>\n",
       "      <td>EQ0000000038693475</td>\n",
       "      <td>BBG007FJ2TG3</td>\n",
       "      <td>Clymer Central School District - Government Fund</td>\n",
       "      <td>1072190</td>\n",
       "      <td>BBG001FX7B97</td>\n",
       "      <td>Clymer Central School District</td>\n",
       "      <td>1072190</td>\n",
       "      <td>4</td>\n",
       "      <td>NY</td>\n",
       "      <td>Y</td>\n",
       "    </tr>\n",
       "    <tr>\n",
       "      <th>138449MF US Equity</th>\n",
       "      <td>36153324</td>\n",
       "      <td>BBG004SJZVM8</td>\n",
       "      <td>138449MF</td>\n",
       "      <td>138449MF US</td>\n",
       "      <td>OSSINING UNION FREE SCHOOL D</td>\n",
       "      <td>49032MF US</td>\n",
       "      <td>20180630</td>\n",
       "      <td>06/2019</td>\n",
       "      <td>USD</td>\n",
       "      <td>O'CONNOR DAVIES LLP</td>\n",
       "      <td>...</td>\n",
       "      <td>EQ0000000030865931</td>\n",
       "      <td>BBG004RX7LW0</td>\n",
       "      <td>Ossining Union Free School District - Total Go...</td>\n",
       "      <td>1073766</td>\n",
       "      <td>BBG001FW45G7</td>\n",
       "      <td>Ossining Union Free School Dis</td>\n",
       "      <td>1073766</td>\n",
       "      <td>3</td>\n",
       "      <td>NY</td>\n",
       "      <td>Y</td>\n",
       "    </tr>\n",
       "    <tr>\n",
       "      <th>119636MF US Equity</th>\n",
       "      <td>32568915</td>\n",
       "      <td>BBG003C53BB8</td>\n",
       "      <td>119636MF</td>\n",
       "      <td>119636MF US</td>\n",
       "      <td>ARDSLEY UNION FREE SCHOOL DI</td>\n",
       "      <td>31395MF US</td>\n",
       "      <td>20180630</td>\n",
       "      <td>06/2019</td>\n",
       "      <td>USD</td>\n",
       "      <td>SICKLER TORCHIA ALLEN &amp; CHURCH</td>\n",
       "      <td>...</td>\n",
       "      <td>EQ0000000026487866</td>\n",
       "      <td>BBG003C00SR8</td>\n",
       "      <td>Ardsley Union Free School District - Total Gov...</td>\n",
       "      <td>1071724</td>\n",
       "      <td>BBG001FX6WK9</td>\n",
       "      <td>Ardsley Union Free School Dist</td>\n",
       "      <td>1071724</td>\n",
       "      <td>3</td>\n",
       "      <td>NY</td>\n",
       "      <td>Y</td>\n",
       "    </tr>\n",
       "    <tr>\n",
       "      <th>33676MF US Equity</th>\n",
       "      <td>1072718</td>\n",
       "      <td>BBG000NZMW56</td>\n",
       "      <td>33676MF</td>\n",
       "      <td>33676MF US</td>\n",
       "      <td>HARPURSVILLE CENTRAL SCHOOL</td>\n",
       "      <td>33676MF US</td>\n",
       "      <td>20180630</td>\n",
       "      <td>06/2019</td>\n",
       "      <td>USD</td>\n",
       "      <td>VIEIRA &amp; ASSOC PC</td>\n",
       "      <td>...</td>\n",
       "      <td>EQ0000000009900345</td>\n",
       "      <td>BBG001FX7TM3</td>\n",
       "      <td>Harpursville Central School District</td>\n",
       "      <td>1072718</td>\n",
       "      <td>BBG001FX7TM3</td>\n",
       "      <td>Harpursville Central School Di</td>\n",
       "      <td>1072718</td>\n",
       "      <td>1</td>\n",
       "      <td>NY</td>\n",
       "      <td>Y</td>\n",
       "    </tr>\n",
       "  </tbody>\n",
       "</table>\n",
       "<p>5 rows × 25 columns</p>\n",
       "</div>"
      ],
      "text/plain": [
       "                   ID_BB_COMPANY  ID_BB_GLOBAL    TICKER TICKER_AND_EXCH_CODE  \\\n",
       "0                                                                               \n",
       "31450MF US Equity        1072083  BBG000NWL633   31450MF           31450MF US   \n",
       "145254MF US Equity      42958831  BBG007GNJVH9  145254MF          145254MF US   \n",
       "138449MF US Equity      36153324  BBG004SJZVM8  138449MF          138449MF US   \n",
       "119636MF US Equity      32568915  BBG003C53BB8  119636MF          119636MF US   \n",
       "33676MF US Equity        1072718  BBG000NZMW56   33676MF           33676MF US   \n",
       "\n",
       "                                            NAME ULT_PARENT_TICKER_EXCHANGE  \\\n",
       "0                                                                             \n",
       "31450MF US Equity   CENTRAL SQUARE CENTRAL SCHOO                 31450MF US   \n",
       "145254MF US Equity  CLYMER CENTRAL SCHOOL DISTRI                 33796MF US   \n",
       "138449MF US Equity  OSSINING UNION FREE SCHOOL D                 49032MF US   \n",
       "119636MF US Equity  ARDSLEY UNION FREE SCHOOL DI                 31395MF US   \n",
       "33676MF US Equity    HARPURSVILLE CENTRAL SCHOOL                 33676MF US   \n",
       "\n",
       "                   MOST_RECENT_PERIOD_END_DT NEXT_FISCAL_YR_END_MONTH  \\\n",
       "0                                                                       \n",
       "31450MF US Equity                   20180630                  06/2019   \n",
       "145254MF US Equity                  20180630                  06/2019   \n",
       "138449MF US Equity                  20180630                  06/2019   \n",
       "119636MF US Equity                  20180630                  06/2019   \n",
       "33676MF US Equity                   20180630                  06/2019   \n",
       "\n",
       "                   EQY_FUND_CRNCY                 COMPANY_AUDITOR  ...  \\\n",
       "0                                                                  ...   \n",
       "31450MF US Equity             USD              RAYMOND F WAGER PC  ...   \n",
       "145254MF US Equity            USD               RA MERCER & CO PC  ...   \n",
       "138449MF US Equity            USD             O'CONNOR DAVIES LLP  ...   \n",
       "119636MF US Equity            USD  SICKLER TORCHIA ALLEN & CHURCH  ...   \n",
       "33676MF US Equity             USD               VIEIRA & ASSOC PC  ...   \n",
       "\n",
       "                          ID_BB_UNIQUE ID_BB_GLOBAL_COMPANY  \\\n",
       "0                                                             \n",
       "31450MF US Equity   EQ0000000009869913         BBG001FX7732   \n",
       "145254MF US Equity  EQ0000000038693475         BBG007FJ2TG3   \n",
       "138449MF US Equity  EQ0000000030865931         BBG004RX7LW0   \n",
       "119636MF US Equity  EQ0000000026487866         BBG003C00SR8   \n",
       "33676MF US Equity   EQ0000000009900345         BBG001FX7TM3   \n",
       "\n",
       "                                            ID_BB_GLOBAL_COMPANY_NAME  \\\n",
       "0                                                                       \n",
       "31450MF US Equity              Central Square Central School District   \n",
       "145254MF US Equity   Clymer Central School District - Government Fund   \n",
       "138449MF US Equity  Ossining Union Free School District - Total Go...   \n",
       "119636MF US Equity  Ardsley Union Free School District - Total Gov...   \n",
       "33676MF US Equity                Harpursville Central School District   \n",
       "\n",
       "                   ID_BB_ULTIMATE_PARENT_CO ID_BB_GLOBAL_ULTIMATE_PARENT_CO  \\\n",
       "0                                                                             \n",
       "31450MF US Equity                   1072083                    BBG001FX7732   \n",
       "145254MF US Equity                  1072190                    BBG001FX7B97   \n",
       "138449MF US Equity                  1073766                    BBG001FW45G7   \n",
       "119636MF US Equity                  1071724                    BBG001FX6WK9   \n",
       "33676MF US Equity                   1072718                    BBG001FX7TM3   \n",
       "\n",
       "                   ID_BB_GLOBAL_ULT_PARENT_CO_NAME ULTIMATE_BORROWER_BBID  \\\n",
       "0                                                                           \n",
       "31450MF US Equity    Central Square Central School                1072083   \n",
       "145254MF US Equity  Clymer Central School District                1072190   \n",
       "138449MF US Equity  Ossining Union Free School Dis                1073766   \n",
       "119636MF US Equity  Ardsley Union Free School Dist                1071724   \n",
       "33676MF US Equity   Harpursville Central School Di                1072718   \n",
       "\n",
       "                   ISSUER_FINANCIAL_STATEMENT_TYPE STATE_CODE FULL_FUND_AVAIL  \n",
       "0                                                                              \n",
       "31450MF US Equity                                1         NY               Y  \n",
       "145254MF US Equity                               4         NY               Y  \n",
       "138449MF US Equity                               3         NY               Y  \n",
       "119636MF US Equity                               3         NY               Y  \n",
       "33676MF US Equity                                1         NY               Y  \n",
       "\n",
       "[5 rows x 25 columns]"
      ]
     },
     "execution_count": 202,
     "metadata": {},
     "output_type": "execute_result"
    }
   ],
   "source": [
    "security_returns.loc[(security_returns['INDUSTRY_SUBGROUP'] == 'Municipal-Education') &\n",
    "                     (security_returns['STATE_CODE'] == 'NY')].head()"
   ]
  },
  {
   "cell_type": "markdown",
   "metadata": {},
   "source": [
    "#### C) Casting  & New Column Creation\n",
    "- DateTime\n",
    "    - 'MOST_RECENT_PERIOD_END_DT' convert to datetime object \n",
    "    - 'NEXT_FISCAL_YR_END_MONTH' convert to datetime object \n",
    "    - Get the number of months between 'MOST_RECENT_PERIOD_END_DT' and 'NEXT_FISCAL_YR_END_MONTH' save to 'Cycle'\n",
    "    - Sort by upcoming \n",
    "    "
   ]
  },
  {
   "cell_type": "code",
   "execution_count": 203,
   "metadata": {
    "collapsed": false
   },
   "outputs": [
    {
     "data": {
      "text/plain": [
       "ID_BB_COMPANY                      object\n",
       "ID_BB_GLOBAL                       object\n",
       "TICKER                             object\n",
       "TICKER_AND_EXCH_CODE               object\n",
       "NAME                               object\n",
       "ULT_PARENT_TICKER_EXCHANGE         object\n",
       "MOST_RECENT_PERIOD_END_DT          object\n",
       "NEXT_FISCAL_YR_END_MONTH           object\n",
       "EQY_FUND_CRNCY                     object\n",
       "COMPANY_AUDITOR                    object\n",
       "AUDITORS_OPINION                   object\n",
       "INDUSTRY_SECTOR                    object\n",
       "INDUSTRY_GROUP                     object\n",
       "INDUSTRY_SUBGROUP                  object\n",
       "EQY_FUND_IND                       object\n",
       "ID_BB_UNIQUE                       object\n",
       "ID_BB_GLOBAL_COMPANY               object\n",
       "ID_BB_GLOBAL_COMPANY_NAME          object\n",
       "ID_BB_ULTIMATE_PARENT_CO           object\n",
       "ID_BB_GLOBAL_ULTIMATE_PARENT_CO    object\n",
       "ID_BB_GLOBAL_ULT_PARENT_CO_NAME    object\n",
       "ULTIMATE_BORROWER_BBID             object\n",
       "ISSUER_FINANCIAL_STATEMENT_TYPE    object\n",
       "STATE_CODE                         object\n",
       "FULL_FUND_AVAIL                    object\n",
       "Counter                             int64\n",
       "dtype: object"
      ]
     },
     "execution_count": 203,
     "metadata": {},
     "output_type": "execute_result"
    }
   ],
   "source": [
    "#do work here\n",
    "security_returns['Counter'] = '1'\n",
    "\n",
    "security_returns['Counter'] = security_returns['Counter'].astype(int)\n",
    "security_returns.dtypes\n"
   ]
  },
  {
   "cell_type": "markdown",
   "metadata": {},
   "source": [
    "#### D) Restructuring DataFrame (Pivot)\n",
    "- DateTime\n",
    "    - Create a Month Date from 'NEXT_FISCAL_YR_END_MONTH' and save as 'Month_Fiscal'\n",
    "    - pivot the data by 'COMPANY_AUDITOR' as the index, and the 'Month_Fiscal' as the columns\n",
    "    "
   ]
  },
  {
   "cell_type": "code",
   "execution_count": 204,
   "metadata": {
    "collapsed": true
   },
   "outputs": [],
   "source": [
    "#do work here\n",
    "#https://pandas.pydata.org/pandas-docs/stable/reference/api/pandas.pivot_table.html\n",
    "\n",
    "\n",
    "\n"
   ]
  },
  {
   "cell_type": "markdown",
   "metadata": {},
   "source": [
    "#### E) BQL\n",
    "- initialize the BQL service, call it bq\n",
    "- Request the 'CIE_DES' mnemonic on the 'ID_BB_GLOBAL'\n",
    "- make the result a dataframe \n",
    "- rename the columns "
   ]
  },
  {
   "cell_type": "code",
   "execution_count": 205,
   "metadata": {
    "collapsed": true
   },
   "outputs": [],
   "source": [
    "#do in BQNT"
   ]
  },
  {
   "cell_type": "code",
   "execution_count": 206,
   "metadata": {
    "collapsed": false
   },
   "outputs": [
    {
     "ename": "NameError",
     "evalue": "name 'bql' is not defined",
     "output_type": "error",
     "traceback": [
      "\u001b[0;31m---------------------------------------------------------------------------\u001b[0m",
      "\u001b[0;31mNameError\u001b[0m                                 Traceback (most recent call last)",
      "\u001b[0;32m<ipython-input-206-98e7e4df51ce>\u001b[0m in \u001b[0;36m<module>\u001b[0;34m\u001b[0m\n\u001b[0;32m----> 1\u001b[0;31m \u001b[0mbq\u001b[0m \u001b[0;34m=\u001b[0m \u001b[0mbql\u001b[0m\u001b[0;34m.\u001b[0m\u001b[0mService\u001b[0m\u001b[0;34m(\u001b[0m\u001b[0;34m)\u001b[0m\u001b[0;34m\u001b[0m\u001b[0;34m\u001b[0m\u001b[0m\n\u001b[0m\u001b[1;32m      2\u001b[0m \u001b[0mcompany_des\u001b[0m \u001b[0;34m=\u001b[0m \u001b[0mbq\u001b[0m\u001b[0;34m.\u001b[0m\u001b[0mdata\u001b[0m\u001b[0;34m.\u001b[0m\u001b[0mCIE_DES\u001b[0m\u001b[0;34m(\u001b[0m\u001b[0;34m)\u001b[0m\u001b[0;34m\u001b[0m\u001b[0;34m\u001b[0m\u001b[0m\n\u001b[1;32m      3\u001b[0m \u001b[0;34m\u001b[0m\u001b[0m\n\u001b[1;32m      4\u001b[0m \u001b[0;34m\u001b[0m\u001b[0m\n\u001b[1;32m      5\u001b[0m \u001b[0mrequest\u001b[0m \u001b[0;34m=\u001b[0m \u001b[0mbql\u001b[0m\u001b[0;34m.\u001b[0m\u001b[0mRequest\u001b[0m\u001b[0;34m(\u001b[0m\u001b[0mnynj_health\u001b[0m\u001b[0;34m[\u001b[0m\u001b[0;34m'ID_BB_GLOBAL'\u001b[0m\u001b[0;34m]\u001b[0m\u001b[0;34m,\u001b[0m\u001b[0;34m[\u001b[0m\u001b[0mcompany_des\u001b[0m \u001b[0;34m]\u001b[0m\u001b[0;34m)\u001b[0m\u001b[0;34m\u001b[0m\u001b[0;34m\u001b[0m\u001b[0m\n",
      "\u001b[0;31mNameError\u001b[0m: name 'bql' is not defined"
     ]
    }
   ],
   "source": [
    "\n",
    "bq = bql.Service()\n",
    "company_des = bq.data.CIE_DES()\n",
    "\n",
    "\n",
    "request = bql.Request(nynj_health['ID_BB_GLOBAL'],[company_des ])\n",
    "\n",
    "# Execute the request\n",
    "response = bq.execute(request)\n",
    "\n",
    "description_table = bql.combined_df(response).reset_index()\n",
    "description_table.rename(columns = {'ID': 'ID_BB_GLOBAL', 'CIE_DES()':'Company Description'}, inplace = True)"
   ]
  },
  {
   "cell_type": "markdown",
   "metadata": {},
   "source": [
    "#### F) Merge\n",
    "- change the column values \n",
    "- left merge on ID_BB_GLOBAL\n"
   ]
  },
  {
   "cell_type": "code",
   "execution_count": 207,
   "metadata": {
    "collapsed": true
   },
   "outputs": [],
   "source": [
    "#do work here\n",
    "#https://pandas.pydata.org/pandas-docs/stable/reference/api/pandas.DataFrame.merge.html\n",
    "\n",
    "\n"
   ]
  },
  {
   "cell_type": "markdown",
   "metadata": {},
   "source": [
    "### Data Visualization\n",
    "\n",
    "- groupby industry sector and create a barplot"
   ]
  },
  {
   "cell_type": "code",
   "execution_count": 172,
   "metadata": {
    "collapsed": true
   },
   "outputs": [],
   "source": [
    "from matplotlib import pyplot as plt\n"
   ]
  },
  {
   "cell_type": "code",
   "execution_count": null,
   "metadata": {
    "collapsed": true
   },
   "outputs": [],
   "source": [
    "#do work here\n",
    "#http://jonathansoma.com/lede/algorithms-2017/classes/fuzziness-matplotlib/understand-df-plot-in-pandas/\n",
    "\n"
   ]
  },
  {
   "cell_type": "code",
   "execution_count": null,
   "metadata": {
    "collapsed": true
   },
   "outputs": [],
   "source": []
  }
 ],
 "metadata": {
  "kernelspec": {
   "display_name": "Python 3",
   "language": "python",
   "name": "python3"
  },
  "language_info": {
   "codemirror_mode": {
    "name": "ipython",
    "version": 3
   },
   "file_extension": ".py",
   "mimetype": "text/x-python",
   "name": "python",
   "nbconvert_exporter": "python",
   "pygments_lexer": "ipython3",
   "version": "3.5.1"
  }
 },
 "nbformat": 4,
 "nbformat_minor": 4
}
